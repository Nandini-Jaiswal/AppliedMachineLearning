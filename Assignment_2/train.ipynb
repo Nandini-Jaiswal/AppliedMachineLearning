{
 "cells": [
  {
   "cell_type": "markdown",
   "metadata": {},
   "source": [
    "# Integrating `MLflow` to SMS Spam Detection"
   ]
  },
  {
   "cell_type": "markdown",
   "metadata": {},
   "source": [
    "#### Importing Necessary Libraries\n",
    "\n",
    "Also, suppressing warnings to keep the output clean."
   ]
  },
  {
   "cell_type": "code",
   "execution_count": null,
   "metadata": {},
   "outputs": [],
   "source": [
    "import pandas as pd\n",
    "from sklearn.model_selection import GridSearchCV\n",
    "from sklearn.svm import SVC\n",
    "from sklearn.linear_model import LogisticRegression\n",
    "from sklearn.tree import DecisionTreeClassifier\n",
    "from sklearn.ensemble import RandomForestClassifier\n",
    "from sklearn.pipeline import Pipeline\n",
    "from sklearn.naive_bayes import MultinomialNB\n",
    "from sklearn.feature_extraction.text import CountVectorizer, TfidfTransformer\n",
    "from sklearn.metrics import precision_recall_curve, auc\n",
    "from prettytable import PrettyTable\n",
    "from mlflow.tracking import MlflowClient\n",
    "import random\n",
    "import mlflow\n",
    "import mlflow.sklearn\n",
    "\n",
    "import warnings\n",
    "warnings.filterwarnings('ignore')"
   ]
  },
  {
   "cell_type": "markdown",
   "metadata": {},
   "source": [
    "#### Loading and Cleaning Data"
   ]
  },
  {
   "cell_type": "code",
   "execution_count": null,
   "metadata": {},
   "outputs": [],
   "source": [
    "train_df = pd.read_csv('train.csv')\n",
    "test_df = pd.read_csv('test.csv')\n",
    "validation_df = pd.read_csv('validation.csv')\n",
    "\n",
    "# There are some empty sms filed, hence removing them\n",
    "train_df.dropna(inplace=True)\n",
    "validation_df.dropna(inplace=True)\n",
    "test_df.dropna(inplace=True)\n",
    "\n",
    "label_mapping = {'ham': 0, 'spam': 1}\n",
    "train_df['label'] = train_df['label'].map(label_mapping)\n",
    "validation_df['label'] = validation_df['label'].map(label_mapping)\n",
    "test_df['label'] = test_df['label'].map(label_mapping)"
   ]
  },
  {
   "cell_type": "markdown",
   "metadata": {},
   "source": [
    "#### Combining Training and Validation Data"
   ]
  },
  {
   "cell_type": "code",
   "execution_count": 7,
   "metadata": {},
   "outputs": [],
   "source": [
    "combined_df = pd.concat([train_df, validation_df])"
   ]
  },
  {
   "cell_type": "markdown",
   "metadata": {},
   "source": [
    "## How MLflow Works\n",
    "\n",
    "MLflow is an open-source platform to manage the ML lifecycle, including experimentation, reproducibility, and deployment.\n",
    "\n",
    "### Key Components\n",
    "\n",
    "1. **Tracking**: Log parameters, metrics, and artifacts.\n",
    "2. **Projects**: Standardize and execute code.\n",
    "3. **Models**: Package and deploy models.\n",
    "4. **Registry**: Manage model lifecycle.\n",
    "\n",
    "### Basic Workflow\n",
    "\n",
    "1. **Set Up Tracking**:\n",
    "    - Initialize MLflow and set the tracking URI.\n",
    "    - Start a new run using `mlflow.start_run()`.\n",
    "\n",
    "2. **Log Parameters and Metrics**:\n",
    "    - Use `mlflow.log_param()` to log hyperparameters.\n",
    "    - Use `mlflow.log_metric()` to log performance metrics.\n",
    "\n",
    "3. **Log Models**:\n",
    "    - Use `mlflow.sklearn.log_model()` to log a trained model.\n",
    "\n",
    "4. **End Run**:\n",
    "    - End the run using `mlflow.end_run()`.\n",
    "\n",
    "5. **View Results**:\n",
    "    - Use the MLflow UI to visualize and compare runs."
   ]
  },
  {
   "cell_type": "markdown",
   "metadata": {},
   "source": [
    "#### Setting up `mlflow`\n",
    "\n",
    "- First run `mlflow ui` in the terminal."
   ]
  },
  {
   "cell_type": "code",
   "execution_count": null,
   "metadata": {},
   "outputs": [
    {
     "data": {
      "text/plain": [
       "<Experiment: artifact_location='mlflow-artifacts:/586477112453009050', creation_time=1741103584959, experiment_id='586477112453009050', last_update_time=1741103584959, lifecycle_stage='active', name='SMS Spam Detection Experiment', tags={}>"
      ]
     },
     "metadata": {},
     "output_type": "display_data"
    }
   ],
   "source": [
    "mlflow.set_tracking_uri(\"http://127.0.0.1:5000\")\n",
    "mlflow.set_experiment(\"SMS Spam Detection Experiment\")"
   ]
  },
  {
   "cell_type": "markdown",
   "metadata": {},
   "source": [
    "#### Writing `utility functions`"
   ]
  },
  {
   "cell_type": "code",
   "execution_count": null,
   "metadata": {},
   "outputs": [],
   "source": [
    "def hyperparameter_tune(model, param_grid, X_train, y_train):\n",
    "    \"\"\"\n",
    "    Performs grid search cross-validation to find optimal hyperparameters.\n",
    "    Args:\n",
    "        model: Classifier model\n",
    "        param_grid: Dictionary with parameters names (string) as keys and lists of parameter settings to try\n",
    "        X_train: Training data features\n",
    "        y_train: Training data labels\n",
    "    Returns:\n",
    "        Best fitted model based on cross-validation score\n",
    "    \"\"\"\n",
    "    pipeline = Pipeline([\n",
    "        ('vect', CountVectorizer()),\n",
    "        ('tfidf', TfidfTransformer()),\n",
    "        ('clf', model)\n",
    "    ])\n",
    "    grid_search = GridSearchCV(pipeline, param_grid, cv=5, n_jobs=-1, verbose=1, scoring='roc_auc')\n",
    "    grid_search.fit(X_train, y_train)\n",
    "    \n",
    "    print(\"Best parameters found: \", grid_search.best_params_)\n",
    "    print(\"Best cross-validation score: \", grid_search.best_score_)\n",
    "    \n",
    "    mlflow.log_params(grid_search.best_params_)\n",
    "    mlflow.sklearn.log_model(grid_search.best_estimator_, \"model\")\n",
    "    \n",
    "    mlflow.log_metric(\"best roc_auc cv score\", grid_search.best_score_)\n",
    "    mlflow.log_param(\"model_name\", model.__class__.__name__)\n",
    "    \n",
    "    return grid_search.best_estimator_\n",
    "\n",
    "def evaluate_model(model, X, y, set=\"\"):\n",
    "    \"\"\"\n",
    "    Evaluates model performance using AUC-PR and logs the metric to MLflow.\n",
    "    \"\"\"\n",
    "    predictions = model.predict(X)\n",
    "    precision, recall, _ = precision_recall_curve(y, predictions)\n",
    "    auc_pr = auc(recall, precision)\n",
    "    \n",
    "    # Log the AUC-PR to MLflow\n",
    "    mlflow.log_metric(f\"{set}_auc_pr\", auc_pr)\n",
    "\n",
    "    return auc_pr\n"
   ]
  },
  {
   "cell_type": "markdown",
   "metadata": {},
   "source": [
    "## Building the benchmark models"
   ]
  },
  {
   "cell_type": "markdown",
   "metadata": {},
   "source": [
    "#### Random Forest Classifier"
   ]
  },
  {
   "cell_type": "code",
   "execution_count": null,
   "metadata": {},
   "outputs": [
    {
     "name": "stdout",
     "output_type": "stream",
     "text": [
      "Fitting 5 folds for each of 24 candidates, totalling 120 fits\n",
      "Best parameters found:  {'clf__max_depth': None, 'clf__min_samples_leaf': 1, 'clf__min_samples_split': 5, 'clf__n_estimators': 200}\n",
      "Best cross-validation score:  0.9931581779974866\n"
     ]
    },
    {
     "name": "stderr",
     "output_type": "stream",
     "text": [
      "2025/03/04 21:44:22 WARNING mlflow.models.model: Model logged without a signature and input example. Please set `input_example` parameter when logging the model to auto infer the model signature.\n",
      "Registered model 'random_forest_model' already exists. Creating a new version of this model...\n",
      "2025/03/04 21:44:24 INFO mlflow.store.model_registry.abstract_store: Waiting up to 300 seconds for model version to finish creation. Model name: random_forest_model, version 2\n"
     ]
    },
    {
     "name": "stdout",
     "output_type": "stream",
     "text": [
      "🏃 View run RandomForest_Classifier at: http://127.0.0.1:5000/#/experiments/586477112453009050/runs/1c41edd36c0644abb32eb02a64567777\n",
      "🧪 View experiment at: http://127.0.0.1:5000/#/experiments/586477112453009050\n"
     ]
    },
    {
     "name": "stderr",
     "output_type": "stream",
     "text": [
      "Created version '2' of model 'random_forest_model'.\n"
     ]
    }
   ],
   "source": [
    "param_grid = {\n",
    "    'clf__n_estimators': [100, 200],\n",
    "    'clf__max_depth': [None, 10, 20],\n",
    "    'clf__min_samples_split': [2, 5],\n",
    "    'clf__min_samples_leaf': [1, 2]\n",
    "}\n",
    "\n",
    "model = RandomForestClassifier(random_state=42)\n",
    "\n",
    "with mlflow.start_run(run_name=\"RandomForest_Classifier\"):\n",
    "    best_model_rf = hyperparameter_tune(model, param_grid, combined_df['text'], combined_df['label'])\n",
    "    evaluate_model(best_model_rf, combined_df['text'], combined_df['label'], set=\"train\")\n",
    "    evaluate_model(best_model_rf, test_df['text'], test_df['label'], set=\"test\")\n",
    "    mlflow.register_model(\"runs:/{}/random_forest_model\".format(mlflow.active_run().info.run_id), \"random_forest_model\")\n",
    "\n",
    "mlflow.end_run()"
   ]
  },
  {
   "cell_type": "markdown",
   "metadata": {},
   "source": [
    "#### Decision Tree Classifier"
   ]
  },
  {
   "cell_type": "code",
   "execution_count": 43,
   "metadata": {},
   "outputs": [
    {
     "name": "stdout",
     "output_type": "stream",
     "text": [
      "Fitting 5 folds for each of 36 candidates, totalling 180 fits\n",
      "Best parameters found:  {'clf__criterion': 'gini', 'clf__max_depth': None, 'clf__min_samples_leaf': 4, 'clf__min_samples_split': 2}\n",
      "Best cross-validation score:  0.9306030955862689\n"
     ]
    },
    {
     "name": "stderr",
     "output_type": "stream",
     "text": [
      "2025/03/04 21:44:39 WARNING mlflow.models.model: Model logged without a signature and input example. Please set `input_example` parameter when logging the model to auto infer the model signature.\n",
      "Successfully registered model 'decision_tree_model'.\n",
      "2025/03/04 21:44:39 INFO mlflow.store.model_registry.abstract_store: Waiting up to 300 seconds for model version to finish creation. Model name: decision_tree_model, version 1\n"
     ]
    },
    {
     "name": "stdout",
     "output_type": "stream",
     "text": [
      "🏃 View run DecisionTree_Classifier at: http://127.0.0.1:5000/#/experiments/586477112453009050/runs/198d8e601629496eb38c4a8ee9c9de72\n",
      "🧪 View experiment at: http://127.0.0.1:5000/#/experiments/586477112453009050\n"
     ]
    },
    {
     "name": "stderr",
     "output_type": "stream",
     "text": [
      "Created version '1' of model 'decision_tree_model'.\n"
     ]
    }
   ],
   "source": [
    "param_grid = {\n",
    "    'clf__criterion': ['gini', 'entropy'],\n",
    "    'clf__max_depth': [None, 10, 20],\n",
    "    'clf__min_samples_split': [2, 5],\n",
    "    'clf__min_samples_leaf': [1, 2, 4]\n",
    "}\n",
    "\n",
    "model = DecisionTreeClassifier(random_state=42)\n",
    "\n",
    "with mlflow.start_run(run_name=\"DecisionTree_Classifier\"):\n",
    "    best_model_dt = hyperparameter_tune(model, param_grid, combined_df['text'], combined_df['label'])\n",
    "    evaluate_model(best_model_dt, combined_df['text'], combined_df['label'], set=\"train\")\n",
    "    evaluate_model(best_model_dt, test_df['text'], test_df['label'], set=\"test\")\n",
    "    mlflow.register_model(\"runs:/{}/decision_tree_model\".format(mlflow.active_run().info.run_id), \"decision_tree_model\")\n",
    "\n",
    "mlflow.end_run()"
   ]
  },
  {
   "cell_type": "markdown",
   "metadata": {},
   "source": [
    "#### Logistic Regression Classifier"
   ]
  },
  {
   "cell_type": "code",
   "execution_count": 44,
   "metadata": {},
   "outputs": [
    {
     "name": "stdout",
     "output_type": "stream",
     "text": [
      "Fitting 5 folds for each of 20 candidates, totalling 100 fits\n",
      "Best parameters found:  {'clf__C': 10, 'clf__penalty': 'l2', 'clf__solver': 'liblinear'}\n",
      "Best cross-validation score:  0.9916943723315997\n"
     ]
    },
    {
     "name": "stderr",
     "output_type": "stream",
     "text": [
      "2025/03/04 21:46:08 WARNING mlflow.models.model: Model logged without a signature and input example. Please set `input_example` parameter when logging the model to auto infer the model signature.\n",
      "Successfully registered model 'logistic_regression_model'.\n",
      "2025/03/04 21:46:08 INFO mlflow.store.model_registry.abstract_store: Waiting up to 300 seconds for model version to finish creation. Model name: logistic_regression_model, version 1\n"
     ]
    },
    {
     "name": "stdout",
     "output_type": "stream",
     "text": [
      "🏃 View run LogisticRegression_Classifier at: http://127.0.0.1:5000/#/experiments/586477112453009050/runs/5c1ec1e924324839ba8e8b282aefca03\n",
      "🧪 View experiment at: http://127.0.0.1:5000/#/experiments/586477112453009050\n"
     ]
    },
    {
     "name": "stderr",
     "output_type": "stream",
     "text": [
      "Created version '1' of model 'logistic_regression_model'.\n"
     ]
    }
   ],
   "source": [
    "param_grid = {\n",
    "    'clf__C': [0.01, 0.1, 1, 10, 100],\n",
    "    'clf__penalty': ['l1', 'l2'],\n",
    "    'clf__solver': ['liblinear', 'saga']\n",
    "}\n",
    "\n",
    "model = LogisticRegression(random_state=42)\n",
    "\n",
    "with mlflow.start_run(run_name=\"LogisticRegression_Classifier\"):\n",
    "    best_model_lr = hyperparameter_tune(model, param_grid, combined_df['text'], combined_df['label'])\n",
    "    evaluate_model(best_model_lr, combined_df['text'], combined_df['label'], set=\"train\")\n",
    "    evaluate_model(best_model_lr, test_df['text'], test_df['label'], set=\"test\")\n",
    "    mlflow.register_model(\"runs:/{}/logistic_regression_model\".format(mlflow.active_run().info.run_id), \"logistic_regression_model\")\n",
    "\n",
    "mlflow.end_run()\n"
   ]
  },
  {
   "cell_type": "markdown",
   "metadata": {},
   "source": [
    "#### Support Vector Classifier"
   ]
  },
  {
   "cell_type": "code",
   "execution_count": 45,
   "metadata": {},
   "outputs": [
    {
     "name": "stdout",
     "output_type": "stream",
     "text": [
      "Fitting 5 folds for each of 32 candidates, totalling 160 fits\n",
      "Best parameters found:  {'clf__C': 1, 'clf__gamma': 1, 'clf__kernel': 'rbf'}\n",
      "Best cross-validation score:  0.9932960722078912\n"
     ]
    },
    {
     "name": "stderr",
     "output_type": "stream",
     "text": [
      "2025/03/04 21:49:21 WARNING mlflow.models.model: Model logged without a signature and input example. Please set `input_example` parameter when logging the model to auto infer the model signature.\n",
      "Successfully registered model 'svc_model'.\n",
      "2025/03/04 21:49:24 INFO mlflow.store.model_registry.abstract_store: Waiting up to 300 seconds for model version to finish creation. Model name: svc_model, version 1\n"
     ]
    },
    {
     "name": "stdout",
     "output_type": "stream",
     "text": [
      "🏃 View run SVC_Classifier at: http://127.0.0.1:5000/#/experiments/586477112453009050/runs/5e27c5424d254c26becf5b26f5b84e6a\n",
      "🧪 View experiment at: http://127.0.0.1:5000/#/experiments/586477112453009050\n"
     ]
    },
    {
     "name": "stderr",
     "output_type": "stream",
     "text": [
      "Created version '1' of model 'svc_model'.\n"
     ]
    }
   ],
   "source": [
    "param_grid = {\n",
    "    'clf__C': [0.1, 1, 10, 100],\n",
    "    'clf__gamma': [1, 0.1, 0.01, 0.001],\n",
    "    'clf__kernel': ['linear', 'rbf']\n",
    "}\n",
    "\n",
    "model = SVC(random_state=42)\n",
    "\n",
    "with mlflow.start_run(run_name=\"SVC_Classifier\"):\n",
    "    best_model_svc = hyperparameter_tune(model, param_grid, combined_df['text'], combined_df['label'])\n",
    "    evaluate_model(best_model_svc, combined_df['text'], combined_df['label'], set=\"train\")\n",
    "    evaluate_model(best_model_svc, test_df['text'], test_df['label'], set=\"test\")\n",
    "    mlflow.register_model(\"runs:/{}/svc_model\".format(mlflow.active_run().info.run_id), \"svc_model\")\n",
    "\n",
    "mlflow.end_run()"
   ]
  },
  {
   "cell_type": "markdown",
   "metadata": {},
   "source": [
    "#### Multinomial Naive Bayes"
   ]
  },
  {
   "cell_type": "code",
   "execution_count": 46,
   "metadata": {},
   "outputs": [
    {
     "name": "stdout",
     "output_type": "stream",
     "text": [
      "Fitting 5 folds for each of 5 candidates, totalling 25 fits\n",
      "Best parameters found:  {'clf__alpha': 0.1}\n",
      "Best cross-validation score:  0.9916664578666244\n"
     ]
    },
    {
     "name": "stderr",
     "output_type": "stream",
     "text": [
      "2025/03/04 21:50:41 WARNING mlflow.models.model: Model logged without a signature and input example. Please set `input_example` parameter when logging the model to auto infer the model signature.\n",
      "Successfully registered model 'multinomial_nb_model'.\n",
      "2025/03/04 21:50:42 INFO mlflow.store.model_registry.abstract_store: Waiting up to 300 seconds for model version to finish creation. Model name: multinomial_nb_model, version 1\n"
     ]
    },
    {
     "name": "stdout",
     "output_type": "stream",
     "text": [
      "🏃 View run MultinomialNB_Classifier at: http://127.0.0.1:5000/#/experiments/586477112453009050/runs/4d8c95c153c84eaa83429405a1bece40\n",
      "🧪 View experiment at: http://127.0.0.1:5000/#/experiments/586477112453009050\n"
     ]
    },
    {
     "name": "stderr",
     "output_type": "stream",
     "text": [
      "Created version '1' of model 'multinomial_nb_model'.\n"
     ]
    }
   ],
   "source": [
    "param_grid = {\n",
    "    'clf__alpha': [0.1, 0.5, 1.0, 2.0, 5.0]\n",
    "}\n",
    "\n",
    "model = MultinomialNB()\n",
    "\n",
    "with mlflow.start_run(run_name=\"MultinomialNB_Classifier\"):\n",
    "    best_model_nb = hyperparameter_tune(model, param_grid, combined_df['text'], combined_df['label'])\n",
    "    evaluate_model(best_model_nb, combined_df['text'], combined_df['label'], set=\"train\")\n",
    "    evaluate_model(best_model_nb, test_df['text'], test_df['label'], set=\"test\")\n",
    "    mlflow.register_model(\"runs:/{}/multinomial_nb_model\".format(mlflow.active_run().info.run_id), \"multinomial_nb_model\")\n",
    "\n",
    "mlflow.end_run()\n"
   ]
  },
  {
   "cell_type": "markdown",
   "metadata": {},
   "source": [
    "## Evaluating the benchmark models"
   ]
  },
  {
   "cell_type": "markdown",
   "metadata": {},
   "source": [
    "#### Writing `utility` functions"
   ]
  },
  {
   "cell_type": "code",
   "execution_count": null,
   "metadata": {},
   "outputs": [],
   "source": [
    "def plot_precision_recall_curve(y_true, y_pred):\n",
    "    \"\"\"\n",
    "    Plots the Precision-Recall curve.\n",
    "    \n",
    "    Args:\n",
    "    y_true: True labels\n",
    "    y_pred: Predicted labels\n",
    "    \"\"\"\n",
    "    from sklearn.metrics import precision_recall_curve\n",
    "    import matplotlib.pyplot as plt\n",
    "\n",
    "    precision, recall, _ = precision_recall_curve(y_true, y_pred)\n",
    "\n",
    "    auc_pr = auc(recall, precision)\n",
    "\n",
    "    plt.figure(figsize=(8, 6))\n",
    "    plt.plot(recall, precision, marker='.', label=f'AUC-PR Curve (AUC={auc_pr:.2f})')\n",
    "    plt.xlabel('Recall')\n",
    "    plt.ylabel('Precision')\n",
    "    plt.title('Precision-Recall Curve')\n",
    "    plt.legend()\n",
    "    plt.show()\n",
    "\n",
    "    return auc_pr\n",
    "\n",
    "def load_and_evaluate_model(run_id, model_name):\n",
    "    \"\"\"\n",
    "    Loads a model from a specific run and evaluates it on the test set.\n",
    "    \n",
    "    Args:\n",
    "    run_id (str): The run ID of the model to load.\n",
    "    model_name (str): The name of the model to load.\n",
    "    \n",
    "    Returns:\n",
    "    None\n",
    "    \"\"\"\n",
    "    model_uri = f\"runs:/{run_id}/model\"\n",
    "    loaded_model = mlflow.sklearn.load_model(model_uri)\n",
    "\n",
    "    X_test = test_df['text']\n",
    "    y_test = test_df['label']\n",
    "    predictions = loaded_model.predict(X_test)\n",
    "    print(f\"Precision recall curve for {model_name}\")\n",
    "    auc_pr = plot_precision_recall_curve(y_test, predictions)\n",
    "\n",
    "    return auc_pr"
   ]
  },
  {
   "cell_type": "code",
   "execution_count": 22,
   "metadata": {},
   "outputs": [],
   "source": [
    "run_model_mapping = [\n",
    "    {\"run_id\": \"1c41edd36c0644abb32eb02a64567777\", \"model_name\": \"RandomForest\"},\n",
    "    {\"run_id\": \"198d8e601629496eb38c4a8ee9c9de72\", \"model_name\": \"DecisionTree\"},\n",
    "    {\"run_id\": \"5c1ec1e924324839ba8e8b282aefca03\", \"model_name\": \"LogisticRegression\"},\n",
    "    {\"run_id\": \"5e27c5424d254c26becf5b26f5b84e6a\", \"model_name\": \"SVC\"},\n",
    "    {\"run_id\": \"4d8c95c153c84eaa83429405a1bece40\", \"model_name\": \"MultinomialNB\"}\n",
    "]"
   ]
  },
  {
   "cell_type": "markdown",
   "metadata": {},
   "source": [
    "#### Plotting the AUCPRs"
   ]
  },
  {
   "cell_type": "code",
   "execution_count": 24,
   "metadata": {},
   "outputs": [
    {
     "name": "stderr",
     "output_type": "stream",
     "text": [
      "Downloading artifacts: 100%|██████████| 5/5 [00:00<00:00, 14.61it/s]\n"
     ]
    },
    {
     "name": "stdout",
     "output_type": "stream",
     "text": [
      "Precision recall curve for RandomForest\n"
     ]
    },
    {
     "data": {
      "image/png": "[encoded data removed]",
      "text/plain": [
       "<Figure size 800x600 with 1 Axes>"
      ]
     },
     "metadata": {},
     "output_type": "display_data"
    },
    {
     "name": "stderr",
     "output_type": "stream",
     "text": [
      "Downloading artifacts: 100%|██████████| 5/5 [00:00<00:00, 25.24it/s]\n"
     ]
    },
    {
     "name": "stdout",
     "output_type": "stream",
     "text": [
      "Precision recall curve for DecisionTree\n"
     ]
    },
    {
     "data": {
      "image/png": "[encoded data removed]",
      "text/plain": [
       "<Figure size 800x600 with 1 Axes>"
      ]
     },
     "metadata": {},
     "output_type": "display_data"
    },
    {
     "name": "stderr",
     "output_type": "stream",
     "text": [
      "Downloading artifacts: 100%|██████████| 5/5 [00:00<00:00, 34.68it/s]\n"
     ]
    },
    {
     "name": "stdout",
     "output_type": "stream",
     "text": [
      "Precision recall curve for LogisticRegression\n"
     ]
    },
    {
     "data": {
      "image/png": "[encoded data removed]",
      "text/plain": [
       "<Figure size 800x600 with 1 Axes>"
      ]
     },
     "metadata": {},
     "output_type": "display_data"
    },
    {
     "name": "stderr",
     "output_type": "stream",
     "text": [
      "Downloading artifacts: 100%|██████████| 5/5 [00:00<00:00, 28.49it/s]\n"
     ]
    },
    {
     "name": "stdout",
     "output_type": "stream",
     "text": [
      "Precision recall curve for SVC\n"
     ]
    },
    {
     "data": {
      "image/png": "[encoded data removed]",
      "text/plain": [
       "<Figure size 800x600 with 1 Axes>"
      ]
     },
     "metadata": {},
     "output_type": "display_data"
    },
    {
     "name": "stderr",
     "output_type": "stream",
     "text": [
      "Downloading artifacts: 100%|██████████| 5/5 [00:00<00:00, 28.19it/s]\n"
     ]
    },
    {
     "name": "stdout",
     "output_type": "stream",
     "text": [
      "Precision recall curve for MultinomialNB\n"
     ]
    },
    {
     "data": {
      "image/png": "[encoded data removed]",
      "text/plain": [
       "<Figure size 800x600 with 1 Axes>"
      ]
     },
     "metadata": {},
     "output_type": "display_data"
    }
   ],
   "source": [
    "results_table = PrettyTable()\n",
    "results_table.field_names = [\"Model\", \"AUC-PR Score\"]\n",
    "\n",
    "\n",
    "for item in run_model_mapping:\n",
    "    run_id = item[\"run_id\"]\n",
    "    model_name = item[\"model_name\"]\n",
    "\n",
    "    auc_pr = load_and_evaluate_model(run_id, model_name)\n",
    "    \n",
    "    results_table.add_row([model_name, f\"{auc_pr:.4f}\"])"
   ]
  },
  {
   "cell_type": "code",
   "execution_count": 25,
   "metadata": {},
   "outputs": [
    {
     "data": {
      "text/html": [
       "<table>\n",
       "    <thead>\n",
       "        <tr>\n",
       "            <th>Model</th>\n",
       "            <th>AUC-PR Score</th>\n",
       "        </tr>\n",
       "    </thead>\n",
       "    <tbody>\n",
       "        <tr>\n",
       "            <td>RandomForest</td>\n",
       "            <td>0.9008</td>\n",
       "        </tr>\n",
       "        <tr>\n",
       "            <td>DecisionTree</td>\n",
       "            <td>0.8312</td>\n",
       "        </tr>\n",
       "        <tr>\n",
       "            <td>LogisticRegression</td>\n",
       "            <td>0.9226</td>\n",
       "        </tr>\n",
       "        <tr>\n",
       "            <td>SVC</td>\n",
       "            <td>0.9173</td>\n",
       "        </tr>\n",
       "        <tr>\n",
       "            <td>MultinomialNB</td>\n",
       "            <td>0.9369</td>\n",
       "        </tr>\n",
       "    </tbody>\n",
       "</table>"
      ],
      "text/plain": [
       "+--------------------+--------------+\n",
       "|       Model        | AUC-PR Score |\n",
       "+--------------------+--------------+\n",
       "|    RandomForest    |    0.9008    |\n",
       "|    DecisionTree    |    0.8312    |\n",
       "| LogisticRegression |    0.9226    |\n",
       "|        SVC         |    0.9173    |\n",
       "|   MultinomialNB    |    0.9369    |\n",
       "+--------------------+--------------+"
      ]
     },
     "execution_count": 25,
     "metadata": {},
     "output_type": "execute_result"
    }
   ],
   "source": [
    "results_table"
   ]
  },
  {
   "cell_type": "markdown",
   "metadata": {},
   "source": [
    "## Model Performance Analysis\n",
    "\n",
    "Based on the results table, we can see the performance of five different machine learning models for SMS spam detection:\n",
    "\n",
    "| Model | AUC-PR Score |\n",
    "|-------|--------------|\n",
    "| MultinomialNB | 0.9369 |\n",
    "| LogisticRegression | 0.9226 |\n",
    "| SVC | 0.9173 |\n",
    "| RandomForest | 0.9008 |\n",
    "| DecisionTree | 0.8312 |\n",
    "\n",
    "The Area Under the Precision-Recall Curve (AUC-PR) is particularly useful for imbalanced classification problems like spam detection. Higher values indicate better model performance.\n",
    "\n",
    "Key observations:\n",
    "- **MultinomialNB** performs best with an AUC-PR of 0.9369, which is expected since Naive Bayes models work well with text classification tasks\n",
    "- **LogisticRegression** is a close second with 0.9226\n",
    "- **SVC** (Support Vector Classifier) shows strong performance at 0.9173\n",
    "- **RandomForest** performs well at 0.9008\n",
    "- **DecisionTree** has the lowest score at 0.8312, showing that simpler tree models may not capture the complexity of text data as effectively\n",
    "\n",
    "The high performance across most models indicates that the features extracted from the text data are highly informative for distinguishing between spam and non-spam messages.\n",
    "\n",
    "However, we would select `MultinomialNB` as the best model."
   ]
  }
 ],
 "metadata": {
  "kernelspec": {
   "display_name": "venv",
   "language": "python",
   "name": "python3"
  },
  "language_info": {
   "codemirror_mode": {
    "name": "ipython",
    "version": 3
   },
   "file_extension": ".py",
   "mimetype": "text/x-python",
   "name": "python",
   "nbconvert_exporter": "python",
   "pygments_lexer": "ipython3",
   "version": "3.12.9"
  }
 },
 "nbformat": 4,
 "nbformat_minor": 2
}
